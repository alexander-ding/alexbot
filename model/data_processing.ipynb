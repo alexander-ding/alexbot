{
 "cells": [
  {
   "cell_type": "code",
   "execution_count": 2,
   "metadata": {},
   "outputs": [],
   "source": [
    "import re\n",
    "import numpy as np\n",
    "import pickle\n",
    "from pathlib import Path\n",
    "from collections import Counter"
   ]
  },
  {
   "cell_type": "code",
   "execution_count": 3,
   "metadata": {},
   "outputs": [],
   "source": [
    "def parse_title(title):\n",
    "    if len(title) < 3:\n",
    "        return True\n",
    "    if title[:2] == \"Me\":\n",
    "        return True\n",
    "    else:\n",
    "        return False\n",
    "\n",
    "def clean_message(msg):\n",
    "    msg = msg.replace('\\n', ' ').lower()\n",
    "    msg = msg.replace(\"\\xc2\\xa0\", \"\")\n",
    "    msg = re.sub('([\\(\\).,!?])', \"\", msg)\n",
    "    msg = re.sub(\" +\",\" \", msg)\n",
    "    return msg"
   ]
  },
  {
   "cell_type": "code",
   "execution_count": 4,
   "metadata": {},
   "outputs": [],
   "source": [
    "data_in = Path(\"data\") / \"sms.txt\"\n",
    "lines = []\n",
    "with open(data_in, 'r', encoding='utf-8') as f:\n",
    "    while True:\n",
    "        title = f.readline()\n",
    "        if not title:\n",
    "            break\n",
    "        content = f.readline()\n",
    "        if not content:\n",
    "            break\n",
    "        ok = True\n",
    "        while (ok):\n",
    "            s = f.readline() # whitespace\n",
    "            if not s:\n",
    "                break\n",
    "            if len(s)==1:\n",
    "                ok = False\n",
    "            else:\n",
    "                content = content + s\n",
    "        lines.append((parse_title(title), clean_message(content)))"
   ]
  },
  {
   "cell_type": "code",
   "execution_count": 5,
   "metadata": {},
   "outputs": [],
   "source": [
    "lines = [(t,l) for t, l in lines if l != \"[attachment] \"]"
   ]
  },
  {
   "cell_type": "code",
   "execution_count": 5,
   "metadata": {},
   "outputs": [],
   "source": [
    "conversation_dict = {}\n",
    "other_message = \"\"\n",
    "my_message = \"\"\n",
    "for (is_me, line) in lines:\n",
    "    if not is_me:\n",
    "        # commit the previous message if it is ready\n",
    "        if my_message != \"\" and other_message != \"\":\n",
    "            conversation_dict[other_message] = my_message\n",
    "            my_message = \"\"\n",
    "            other_message = \"\"\n",
    "        other_message = other_message + line\n",
    "        continue\n",
    "    # if it is my message\n",
    "    my_message = my_message + line"
   ]
  },
  {
   "cell_type": "code",
   "execution_count": 6,
   "metadata": {},
   "outputs": [],
   "source": [
    "with open(Path(\"data\") / \"conversation.txt\", 'w', encoding='utf-8') as f:\n",
    "    for k,v in conversation_dict.items():\n",
    "        f.write(k + \"\\n\")\n",
    "        f.write(v + \"\\n\")\n",
    "np.save(Path('data') / \"conversation_dict.npy\", conversation_dict)"
   ]
  },
  {
   "cell_type": "code",
   "execution_count": 7,
   "metadata": {},
   "outputs": [],
   "source": [
    "with open(Path(\"data\") / \"conversation.txt\", \"r\", encoding=\"utf-8\") as f:\n",
    "    lines = f.readlines()\n",
    "    c = Counter()\n",
    "    for line in lines:\n",
    "        c.update(line[:-1].split(\" \"))\n",
    "word_list = list(c.keys())\n",
    "word_list.append(\"<padding>\")\n",
    "word_list.append(\"<eos>\")\n",
    "with open(Path(\"data\") / \"word_list.txt\", \"wb\") as f:\n",
    "    pickle.dump(word_list, f)"
   ]
  },
  {
   "cell_type": "markdown",
   "metadata": {},
   "source": [
    "## Experiment\n",
    "\n",
    "The idea is to make another bot that imitates the other person's conversation style and pitch the two bots together."
   ]
  },
  {
   "cell_type": "code",
   "execution_count": 14,
   "metadata": {},
   "outputs": [],
   "source": [
    "def parse_title(title):\n",
    "    if len(title) < 3:\n",
    "        return True\n",
    "    if title[:2] == \"Me\":\n",
    "        return False\n",
    "    else:\n",
    "        return True"
   ]
  },
  {
   "cell_type": "code",
   "execution_count": 15,
   "metadata": {},
   "outputs": [],
   "source": [
    "data_in = Path(\"data\") / \"sms.txt\"\n",
    "lines = []\n",
    "with open(data_in, 'r', encoding='utf-8') as f:\n",
    "    while True:\n",
    "        title = f.readline()\n",
    "        if not title:\n",
    "            break\n",
    "        content = f.readline()\n",
    "        if not content:\n",
    "            break\n",
    "        ok = True\n",
    "        while (ok):\n",
    "            s = f.readline() # whitespace\n",
    "            if not s:\n",
    "                break\n",
    "            if len(s)==1:\n",
    "                ok = False\n",
    "            else:\n",
    "                content = content + s\n",
    "        lines.append((parse_title(title), clean_message(content)))"
   ]
  },
  {
   "cell_type": "code",
   "execution_count": 16,
   "metadata": {},
   "outputs": [],
   "source": [
    "lines = [(t,l) for t, l in lines if l != \"[attachment] \"]"
   ]
  },
  {
   "cell_type": "code",
   "execution_count": 21,
   "metadata": {},
   "outputs": [],
   "source": [
    "conversation_dict = {}\n",
    "other_message = \"\"\n",
    "my_message = \"\"\n",
    "for (is_me, line) in lines:\n",
    "    if not is_me:\n",
    "        # commit the previous message if it is ready\n",
    "        if my_message != \"\" and other_message != \"\":\n",
    "            conversation_dict[other_message] = my_message\n",
    "            my_message = \"\"\n",
    "            other_message = \"\"\n",
    "        other_message = other_message + line\n",
    "        continue\n",
    "    # if it is my message\n",
    "    my_message = my_message + line"
   ]
  },
  {
   "cell_type": "code",
   "execution_count": 22,
   "metadata": {},
   "outputs": [],
   "source": [
    "with open(Path(\"data\") / \"conversation_reverse.txt\", 'w', encoding='utf-8') as f:\n",
    "    for k,v in conversation_dict.items():\n",
    "        f.write(k + \"\\n\")\n",
    "        f.write(v + \"\\n\")\n",
    "np.save(Path('data') / \"conversation_dict_reverse.npy\", conversation_dict)"
   ]
  },
  {
   "cell_type": "code",
   "execution_count": 23,
   "metadata": {},
   "outputs": [],
   "source": [
    "with open(Path(\"data\") / \"conversation_reverse.txt\", \"r\", encoding=\"utf-8\") as f:\n",
    "    lines = f.readlines()\n",
    "    c = Counter()\n",
    "    for line in lines:\n",
    "        c.update(line[:-1].split(\" \"))\n",
    "word_list = list(c.keys())\n",
    "word_list.append(\"<padding>\")\n",
    "word_list.append(\"<eos>\")\n",
    "with open(Path(\"data\") / \"word_list_reverse.txt\", \"wb\") as f:\n",
    "    pickle.dump(word_list, f)"
   ]
  }
 ],
 "metadata": {
  "kernelspec": {
   "display_name": "Python 3",
   "language": "python",
   "name": "python3"
  },
  "language_info": {
   "codemirror_mode": {
    "name": "ipython",
    "version": 3
   },
   "file_extension": ".py",
   "mimetype": "text/x-python",
   "name": "python",
   "nbconvert_exporter": "python",
   "pygments_lexer": "ipython3",
   "version": "3.7.3"
  }
 },
 "nbformat": 4,
 "nbformat_minor": 2
}
